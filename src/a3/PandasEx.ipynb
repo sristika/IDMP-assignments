{
 "cells": [
  {
   "cell_type": "markdown",
   "metadata": {},
   "source": [
    "Load the Flights Dataset"
   ]
  },
  {
   "cell_type": "code",
   "metadata": {
    "ExecuteTime": {
     "end_time": "2024-10-03T16:27:39.188561Z",
     "start_time": "2024-10-03T16:27:37.794932Z"
    }
   },
   "source": [
    "import pandas as pd\n",
    "\n",
    "flights = pd.read_csv('flights.csv')\n",
    "flights.head()"
   ],
   "outputs": [
    {
     "data": {
      "text/plain": [
       "   Month  Day  Weekday Airline Origin Dest  AirTime  Distance  ArrivalDelay  \\\n",
       "0      1    1        4      WN    LAX  SLC     94.0       590          65.0   \n",
       "1      1    1        4      UA    DEN  IAD    154.0      1452         -13.0   \n",
       "2      1    1        4      MQ    DFW  VPS     85.0       641          35.0   \n",
       "3      1    1        4      AA    DFW  DCA    126.0      1192          -7.0   \n",
       "4      1    1        4      WN    LAX  MCI    166.0      1363          39.0   \n",
       "\n",
       "   Diverted  Cancelled  \n",
       "0         0          0  \n",
       "1         0          0  \n",
       "2         0          0  \n",
       "3         0          0  \n",
       "4         0          0  "
      ],
      "text/html": [
       "<div>\n",
       "<style scoped>\n",
       "    .dataframe tbody tr th:only-of-type {\n",
       "        vertical-align: middle;\n",
       "    }\n",
       "\n",
       "    .dataframe tbody tr th {\n",
       "        vertical-align: top;\n",
       "    }\n",
       "\n",
       "    .dataframe thead th {\n",
       "        text-align: right;\n",
       "    }\n",
       "</style>\n",
       "<table border=\"1\" class=\"dataframe\">\n",
       "  <thead>\n",
       "    <tr style=\"text-align: right;\">\n",
       "      <th></th>\n",
       "      <th>Month</th>\n",
       "      <th>Day</th>\n",
       "      <th>Weekday</th>\n",
       "      <th>Airline</th>\n",
       "      <th>Origin</th>\n",
       "      <th>Dest</th>\n",
       "      <th>AirTime</th>\n",
       "      <th>Distance</th>\n",
       "      <th>ArrivalDelay</th>\n",
       "      <th>Diverted</th>\n",
       "      <th>Cancelled</th>\n",
       "    </tr>\n",
       "  </thead>\n",
       "  <tbody>\n",
       "    <tr>\n",
       "      <th>0</th>\n",
       "      <td>1</td>\n",
       "      <td>1</td>\n",
       "      <td>4</td>\n",
       "      <td>WN</td>\n",
       "      <td>LAX</td>\n",
       "      <td>SLC</td>\n",
       "      <td>94.0</td>\n",
       "      <td>590</td>\n",
       "      <td>65.0</td>\n",
       "      <td>0</td>\n",
       "      <td>0</td>\n",
       "    </tr>\n",
       "    <tr>\n",
       "      <th>1</th>\n",
       "      <td>1</td>\n",
       "      <td>1</td>\n",
       "      <td>4</td>\n",
       "      <td>UA</td>\n",
       "      <td>DEN</td>\n",
       "      <td>IAD</td>\n",
       "      <td>154.0</td>\n",
       "      <td>1452</td>\n",
       "      <td>-13.0</td>\n",
       "      <td>0</td>\n",
       "      <td>0</td>\n",
       "    </tr>\n",
       "    <tr>\n",
       "      <th>2</th>\n",
       "      <td>1</td>\n",
       "      <td>1</td>\n",
       "      <td>4</td>\n",
       "      <td>MQ</td>\n",
       "      <td>DFW</td>\n",
       "      <td>VPS</td>\n",
       "      <td>85.0</td>\n",
       "      <td>641</td>\n",
       "      <td>35.0</td>\n",
       "      <td>0</td>\n",
       "      <td>0</td>\n",
       "    </tr>\n",
       "    <tr>\n",
       "      <th>3</th>\n",
       "      <td>1</td>\n",
       "      <td>1</td>\n",
       "      <td>4</td>\n",
       "      <td>AA</td>\n",
       "      <td>DFW</td>\n",
       "      <td>DCA</td>\n",
       "      <td>126.0</td>\n",
       "      <td>1192</td>\n",
       "      <td>-7.0</td>\n",
       "      <td>0</td>\n",
       "      <td>0</td>\n",
       "    </tr>\n",
       "    <tr>\n",
       "      <th>4</th>\n",
       "      <td>1</td>\n",
       "      <td>1</td>\n",
       "      <td>4</td>\n",
       "      <td>WN</td>\n",
       "      <td>LAX</td>\n",
       "      <td>MCI</td>\n",
       "      <td>166.0</td>\n",
       "      <td>1363</td>\n",
       "      <td>39.0</td>\n",
       "      <td>0</td>\n",
       "      <td>0</td>\n",
       "    </tr>\n",
       "  </tbody>\n",
       "</table>\n",
       "</div>"
      ]
     },
     "execution_count": 2,
     "metadata": {},
     "output_type": "execute_result"
    }
   ],
   "execution_count": 2
  },
  {
   "cell_type": "markdown",
   "metadata": {},
   "source": [
    "**1**. Find the month and day in which the longest arrival delay occurred."
   ]
  },
  {
   "cell_type": "code",
   "metadata": {
    "ExecuteTime": {
     "end_time": "2024-10-03T16:27:53.365886Z",
     "start_time": "2024-10-03T16:27:53.356803Z"
    }
   },
   "source": [
    "longest_delay = flights.loc[flights['ArrivalDelay'].idxmax()]\n",
    "\n",
    "month_day_longest_delay = longest_delay[['Month', 'Day']]\n",
    "print(month_day_longest_delay)"
   ],
   "outputs": [
    {
     "name": "stdout",
     "output_type": "stream",
     "text": [
      "Month    12\n",
      "Day      30\n",
      "Name: 58188, dtype: object\n"
     ]
    }
   ],
   "execution_count": 5
  },
  {
   "cell_type": "markdown",
   "metadata": {},
   "source": [
    "**2**. Find the three airlines with the longest arrival delays."
   ]
  },
  {
   "metadata": {},
   "cell_type": "markdown",
   "source": ""
  },
  {
   "cell_type": "code",
   "metadata": {
    "ExecuteTime": {
     "end_time": "2024-10-03T16:29:24.137021Z",
     "start_time": "2024-10-03T16:29:24.119987Z"
    }
   },
   "source": [
    "average_delays = flights.groupby('Airline')['ArrivalDelay'].mean()\n",
    "\n",
    "top_3_airlines = average_delays.sort_values(ascending=False).head(3)\n",
    "\n",
    "print(top_3_airlines)"
   ],
   "outputs": [
    {
     "name": "stdout",
     "output_type": "stream",
     "text": [
      "Airline\n",
      "NK    18.436070\n",
      "F9    13.630651\n",
      "B6     8.692593\n",
      "Name: ArrivalDelay, dtype: float64\n"
     ]
    }
   ],
   "execution_count": 6
  },
  {
   "cell_type": "markdown",
   "metadata": {},
   "source": [
    "**3**. Find the three airlines with the highest number of cancelled or diverted flights."
   ]
  },
  {
   "cell_type": "code",
   "metadata": {
    "ExecuteTime": {
     "end_time": "2024-10-03T16:30:35.697107Z",
     "start_time": "2024-10-03T16:30:35.671469Z"
    }
   },
   "source": [
    "cancelled_or_diverted_flights = flights[(flights['Cancelled'] == 1) | (flights['Diverted'] == 1)]\n",
    "\n",
    "airline_cancelled_diverted_counts = cancelled_or_diverted_flights.groupby('Airline').size()\n",
    "\n",
    "top_3_airlines_cancelled_diverted = airline_cancelled_diverted_counts.sort_values(ascending=False).head(3)\n",
    "\n",
    "print(top_3_airlines_cancelled_diverted)"
   ],
   "outputs": [
    {
     "name": "stdout",
     "output_type": "stream",
     "text": [
      "Airline\n",
      "AA    180\n",
      "OO    163\n",
      "EV    161\n",
      "dtype: int64\n"
     ]
    }
   ],
   "execution_count": 7
  },
  {
   "cell_type": "markdown",
   "metadata": {},
   "source": [
    "**4**. Find the airlines with more than 2% of cancelled flights. For each such airline, print its name\n",
    "and the precentage of cancelled flights."
   ]
  },
  {
   "cell_type": "code",
   "metadata": {
    "ExecuteTime": {
     "end_time": "2024-10-03T16:33:28.907137Z",
     "start_time": "2024-10-03T16:33:28.893431Z"
    }
   },
   "source": [
    "# Total flights per airline\n",
    "total_flights_per_airline = flights.groupby('Airline').size()\n",
    "\n",
    "# Cancelled flights per airline\n",
    "cancelled_flights_per_airline = flights[flights['Cancelled'] == 1].groupby('Airline').size()\n",
    "\n",
    "# Calculate the percentage of cancelled flights for each airline\n",
    "percentage_cancelled = (cancelled_flights_per_airline / total_flights_per_airline) * 100\n",
    "\n",
    "# Filter airlines with more than 2% cancelled flights\n",
    "airlines_more_than_2_percent_cancelled = percentage_cancelled[percentage_cancelled > 2]\n",
    "\n",
    "# Print the result: airline name and percentage of cancelled flights\n",
    "for airline, percentage in airlines_more_than_2_percent_cancelled.items():\n",
    "    print(f\"Airline: {airline}, Cancelled Flight Percentage: {percentage:.2f}%\")"
   ],
   "outputs": [
    {
     "name": "stdout",
     "output_type": "stream",
     "text": [
      "Airline: EV, Cancelled Flight Percentage: 2.49%\n",
      "Airline: MQ, Cancelled Flight Percentage: 4.38%\n",
      "Airline: OO, Cancelled Flight Percentage: 2.16%\n"
     ]
    }
   ],
   "execution_count": 8
  },
  {
   "cell_type": "markdown",
   "metadata": {},
   "source": [
    "**5**. For each origin and destination, find the average and variance of the airtime."
   ]
  },
  {
   "cell_type": "code",
   "metadata": {
    "ExecuteTime": {
     "end_time": "2024-10-03T16:35:42.586899Z",
     "start_time": "2024-10-03T16:35:42.549126Z"
    }
   },
   "source": [
    "# Group by Origin and Dest, and calculate the mean and variance of AirTime\n",
    "airtime_stats = flights.groupby(['Origin', 'Dest'])['AirTime'].agg(['mean', 'var']).reset_index()\n",
    "\n",
    "# Rename the columns for clarity\n",
    "airtime_stats.columns = ['Origin', 'Destination', 'Average_AirTime', 'Variance_AirTime']\n",
    "\n",
    "# Print the result\n",
    "print(airtime_stats)"
   ],
   "outputs": [
    {
     "name": "stdout",
     "output_type": "stream",
     "text": [
      "     Origin Destination  Average_AirTime  Variance_AirTime\n",
      "0       ATL         ABE        96.387097         45.778495\n",
      "1       ATL         ABQ       170.500000         87.866667\n",
      "2       ATL         ABY        28.578947          6.590643\n",
      "3       ATL         ACY        91.333333         11.466667\n",
      "4       ATL         AEX        78.725000         47.332692\n",
      "...     ...         ...              ...               ...\n",
      "1125    SFO         SNA        64.059322         11.338331\n",
      "1126    SFO         STL       198.900000        101.042105\n",
      "1127    SFO         SUN        78.000000         25.777778\n",
      "1128    SFO         TUS       100.200000         35.221053\n",
      "1129    SFO         XNA       173.500000          0.500000\n",
      "\n",
      "[1130 rows x 4 columns]\n"
     ]
    }
   ],
   "execution_count": 9
  },
  {
   "cell_type": "markdown",
   "metadata": {},
   "source": [
    "**6**. Find the airline that makes the most flights between 500 and 1,000 miles."
   ]
  },
  {
   "cell_type": "code",
   "execution_count": null,
   "metadata": {},
   "outputs": [],
   "source": []
  },
  {
   "cell_type": "markdown",
   "metadata": {},
   "source": [
    "**7**. Create a bar plot showing the number of flights originating from each city."
   ]
  },
  {
   "cell_type": "code",
   "execution_count": null,
   "metadata": {},
   "outputs": [],
   "source": []
  },
  {
   "cell_type": "markdown",
   "metadata": {},
   "source": [
    "**8**. Change the Weekday column to have the day name instead of day number, e.g. 1 - Sun, 2 - Mon, etc."
   ]
  },
  {
   "cell_type": "code",
   "execution_count": null,
   "metadata": {},
   "outputs": [],
   "source": []
  },
  {
   "cell_type": "markdown",
   "metadata": {},
   "source": [
    "**9**. Join the Month and Day columns into a single column named Date. For example, if month=3, day=15, the date column should have 3/15."
   ]
  },
  {
   "cell_type": "code",
   "execution_count": null,
   "metadata": {},
   "outputs": [],
   "source": []
  },
  {
   "cell_type": "markdown",
   "metadata": {},
   "source": [
    "**10**. Find the longest sequence of on-time flights per airline (an on-time flight is a flight with less than 15 minutes arrival delay). <br> Hint: use the [cumsum()](https://pandas.pydata.org/docs/reference/api/pandas.DataFrame.cumsum.html) function."
   ]
  },
  {
   "cell_type": "code",
   "execution_count": null,
   "metadata": {},
   "outputs": [],
   "source": []
  }
 ],
 "metadata": {
  "kernelspec": {
   "display_name": "Python 3 (ipykernel)",
   "language": "python",
   "name": "python3"
  },
  "language_info": {
   "codemirror_mode": {
    "name": "ipython",
    "version": 3
   },
   "file_extension": ".py",
   "mimetype": "text/x-python",
   "name": "python",
   "nbconvert_exporter": "python",
   "pygments_lexer": "ipython3",
   "version": "3.11.5"
  }
 },
 "nbformat": 4,
 "nbformat_minor": 4
}
