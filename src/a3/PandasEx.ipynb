{
 "cells": [
  {
   "cell_type": "markdown",
   "metadata": {},
   "source": [
    "Load the Flights Dataset"
   ]
  },
  {
   "cell_type": "code",
   "metadata": {
    "ExecuteTime": {
     "end_time": "2024-10-04T02:51:30.513705Z",
     "start_time": "2024-10-04T02:51:30.416419Z"
    }
   },
   "source": [
    "import pandas as pd\n",
    "\n",
    "flights = pd.read_csv('flights.csv')\n",
    "flights.head()"
   ],
   "outputs": [
    {
     "data": {
      "text/plain": [
       "   Month  Day Weekday Airline Origin Dest  AirTime  Distance  ArrivalDelay  \\\n",
       "0      1    1     Wed      WN    LAX  SLC     94.0       590          65.0   \n",
       "1      1    1     Wed      UA    DEN  IAD    154.0      1452         -13.0   \n",
       "2      1    1     Wed      MQ    DFW  VPS     85.0       641          35.0   \n",
       "3      1    1     Wed      AA    DFW  DCA    126.0      1192          -7.0   \n",
       "4      1    1     Wed      WN    LAX  MCI    166.0      1363          39.0   \n",
       "\n",
       "   Diverted  Cancelled Date  \n",
       "0         0          0  1/1  \n",
       "1         0          0  1/1  \n",
       "2         0          0  1/1  \n",
       "3         0          0  1/1  \n",
       "4         0          0  1/1  "
      ],
      "text/html": [
       "<div>\n",
       "<style scoped>\n",
       "    .dataframe tbody tr th:only-of-type {\n",
       "        vertical-align: middle;\n",
       "    }\n",
       "\n",
       "    .dataframe tbody tr th {\n",
       "        vertical-align: top;\n",
       "    }\n",
       "\n",
       "    .dataframe thead th {\n",
       "        text-align: right;\n",
       "    }\n",
       "</style>\n",
       "<table border=\"1\" class=\"dataframe\">\n",
       "  <thead>\n",
       "    <tr style=\"text-align: right;\">\n",
       "      <th></th>\n",
       "      <th>Month</th>\n",
       "      <th>Day</th>\n",
       "      <th>Weekday</th>\n",
       "      <th>Airline</th>\n",
       "      <th>Origin</th>\n",
       "      <th>Dest</th>\n",
       "      <th>AirTime</th>\n",
       "      <th>Distance</th>\n",
       "      <th>ArrivalDelay</th>\n",
       "      <th>Diverted</th>\n",
       "      <th>Cancelled</th>\n",
       "      <th>Date</th>\n",
       "    </tr>\n",
       "  </thead>\n",
       "  <tbody>\n",
       "    <tr>\n",
       "      <th>0</th>\n",
       "      <td>1</td>\n",
       "      <td>1</td>\n",
       "      <td>Wed</td>\n",
       "      <td>WN</td>\n",
       "      <td>LAX</td>\n",
       "      <td>SLC</td>\n",
       "      <td>94.0</td>\n",
       "      <td>590</td>\n",
       "      <td>65.0</td>\n",
       "      <td>0</td>\n",
       "      <td>0</td>\n",
       "      <td>1/1</td>\n",
       "    </tr>\n",
       "    <tr>\n",
       "      <th>1</th>\n",
       "      <td>1</td>\n",
       "      <td>1</td>\n",
       "      <td>Wed</td>\n",
       "      <td>UA</td>\n",
       "      <td>DEN</td>\n",
       "      <td>IAD</td>\n",
       "      <td>154.0</td>\n",
       "      <td>1452</td>\n",
       "      <td>-13.0</td>\n",
       "      <td>0</td>\n",
       "      <td>0</td>\n",
       "      <td>1/1</td>\n",
       "    </tr>\n",
       "    <tr>\n",
       "      <th>2</th>\n",
       "      <td>1</td>\n",
       "      <td>1</td>\n",
       "      <td>Wed</td>\n",
       "      <td>MQ</td>\n",
       "      <td>DFW</td>\n",
       "      <td>VPS</td>\n",
       "      <td>85.0</td>\n",
       "      <td>641</td>\n",
       "      <td>35.0</td>\n",
       "      <td>0</td>\n",
       "      <td>0</td>\n",
       "      <td>1/1</td>\n",
       "    </tr>\n",
       "    <tr>\n",
       "      <th>3</th>\n",
       "      <td>1</td>\n",
       "      <td>1</td>\n",
       "      <td>Wed</td>\n",
       "      <td>AA</td>\n",
       "      <td>DFW</td>\n",
       "      <td>DCA</td>\n",
       "      <td>126.0</td>\n",
       "      <td>1192</td>\n",
       "      <td>-7.0</td>\n",
       "      <td>0</td>\n",
       "      <td>0</td>\n",
       "      <td>1/1</td>\n",
       "    </tr>\n",
       "    <tr>\n",
       "      <th>4</th>\n",
       "      <td>1</td>\n",
       "      <td>1</td>\n",
       "      <td>Wed</td>\n",
       "      <td>WN</td>\n",
       "      <td>LAX</td>\n",
       "      <td>MCI</td>\n",
       "      <td>166.0</td>\n",
       "      <td>1363</td>\n",
       "      <td>39.0</td>\n",
       "      <td>0</td>\n",
       "      <td>0</td>\n",
       "      <td>1/1</td>\n",
       "    </tr>\n",
       "  </tbody>\n",
       "</table>\n",
       "</div>"
      ]
     },
     "execution_count": 24,
     "metadata": {},
     "output_type": "execute_result"
    }
   ],
   "execution_count": 24
  },
  {
   "cell_type": "markdown",
   "metadata": {},
   "source": [
    "**1**. Find the month and day in which the longest arrival delay occurred."
   ]
  },
  {
   "cell_type": "code",
   "metadata": {
    "ExecuteTime": {
     "end_time": "2024-10-04T02:51:20.634573Z",
     "start_time": "2024-10-04T02:51:20.555097Z"
    }
   },
   "source": [
    "import pandas as pd\n",
    "\n",
    "flight_data = pd.read_csv('flights.csv')\n",
    "\n",
    "max_delay_row = flight_data.loc[flight_data['ArrivalDelay'].idxmax()]\n",
    "date_with_max_delay = max_delay_row[['Month', 'Day']]\n",
    "print(date_with_max_delay)\n"
   ],
   "outputs": [
    {
     "name": "stdout",
     "output_type": "stream",
     "text": [
      "Month    12\n",
      "Day      30\n",
      "Name: 58188, dtype: object\n"
     ]
    }
   ],
   "execution_count": 23
  },
  {
   "cell_type": "markdown",
   "metadata": {},
   "source": [
    "**2**. Find the three airlines with the longest arrival delays."
   ]
  },
  {
   "metadata": {},
   "cell_type": "markdown",
   "source": ""
  },
  {
   "cell_type": "code",
   "metadata": {
    "ExecuteTime": {
     "end_time": "2024-10-04T02:50:53.167994Z",
     "start_time": "2024-10-04T02:50:53.089532Z"
    }
   },
   "source": [
    "import pandas as pd\n",
    "\n",
    "flight_data = pd.read_csv('flights.csv')\n",
    "\n",
    "mean_delays = flight_data.groupby('Airline')['ArrivalDelay'].agg('mean')\n",
    "top_three_airlines = mean_delays.nlargest(3)\n",
    "print(top_three_airlines)\n"
   ],
   "outputs": [
    {
     "name": "stdout",
     "output_type": "stream",
     "text": [
      "Airline\n",
      "NK    18.436070\n",
      "F9    13.630651\n",
      "B6     8.692593\n",
      "Name: ArrivalDelay, dtype: float64\n"
     ]
    }
   ],
   "execution_count": 21
  },
  {
   "cell_type": "markdown",
   "metadata": {},
   "source": [
    "**3**. Find the three airlines with the highest number of cancelled or diverted flights."
   ]
  },
  {
   "cell_type": "code",
   "metadata": {
    "ExecuteTime": {
     "end_time": "2024-10-04T02:49:59.600049Z",
     "start_time": "2024-10-04T02:49:59.433827Z"
    }
   },
   "source": [
    "import pandas as pd\n",
    "\n",
    "flight_data = pd.read_csv('flights.csv')\n",
    "\n",
    "filtered_flights = flight_data[(flight_data['Cancelled'] == 1) | (flight_data['Diverted'] == 1)]\n",
    "counts_by_airline = filtered_flights['Airline'].value_counts()\n",
    "top_three_airlines = counts_by_airline.nlargest(3)\n",
    "print(top_three_airlines)\n"
   ],
   "outputs": [
    {
     "name": "stdout",
     "output_type": "stream",
     "text": [
      "Airline\n",
      "AA    180\n",
      "OO    163\n",
      "EV    161\n",
      "Name: count, dtype: int64\n"
     ]
    }
   ],
   "execution_count": 18
  },
  {
   "cell_type": "markdown",
   "metadata": {},
   "source": [
    "**4**. Find the airlines with more than 2% of cancelled flights. For each such airline, print its name\n",
    "and the precentage of cancelled flights."
   ]
  },
  {
   "cell_type": "code",
   "metadata": {
    "ExecuteTime": {
     "end_time": "2024-10-04T02:49:29.782722Z",
     "start_time": "2024-10-04T02:49:29.675171Z"
    }
   },
   "source": [
    "import pandas as pd\n",
    "\n",
    "flight_data = pd.read_csv('flights.csv')\n",
    "\n",
    "total_by_airline = flight_data['Airline'].value_counts()\n",
    "cancelled_by_airline = flight_data.query('Cancelled == 1')['Airline'].value_counts()\n",
    "cancelled_percentage = (cancelled_by_airline / total_by_airline * 100).dropna()\n",
    "filtered_airlines = cancelled_percentage[cancelled_percentage > 2]\n",
    "for carrier, percent in filtered_airlines.items():\n",
    "    print(f\"Airline: {carrier}, Cancelled Flight Percentage: {percent:.2f}%\")\n"
   ],
   "outputs": [
    {
     "name": "stdout",
     "output_type": "stream",
     "text": [
      "Airline: EV, Cancelled Flight Percentage: 2.49%\n",
      "Airline: MQ, Cancelled Flight Percentage: 4.38%\n",
      "Airline: OO, Cancelled Flight Percentage: 2.16%\n"
     ]
    }
   ],
   "execution_count": 17
  },
  {
   "cell_type": "markdown",
   "metadata": {},
   "source": [
    "**5**. For each origin and destination, find the average and variance of the airtime."
   ]
  },
  {
   "cell_type": "code",
   "metadata": {
    "ExecuteTime": {
     "end_time": "2024-10-04T02:48:36.740479Z",
     "start_time": "2024-10-04T02:48:36.645065Z"
    }
   },
   "source": [
    "import pandas as pd\n",
    "\n",
    "data = pd.read_csv('flights.csv')\n",
    "\n",
    "airtime_metrics = data.groupby(['Origin', 'Dest'])['AirTime'].agg(average='mean', variance='var').reset_index()\n",
    "airtime_metrics.columns = ['Departure', 'Arrival', 'AvgAirTime', 'VarAirTime']\n",
    "print(airtime_metrics)\n"
   ],
   "outputs": [
    {
     "name": "stdout",
     "output_type": "stream",
     "text": [
      "     Departure Arrival  AvgAirTime  VarAirTime\n",
      "0          ATL     ABE   96.387097   45.778495\n",
      "1          ATL     ABQ  170.500000   87.866667\n",
      "2          ATL     ABY   28.578947    6.590643\n",
      "3          ATL     ACY   91.333333   11.466667\n",
      "4          ATL     AEX   78.725000   47.332692\n",
      "...        ...     ...         ...         ...\n",
      "1125       SFO     SNA   64.059322   11.338331\n",
      "1126       SFO     STL  198.900000  101.042105\n",
      "1127       SFO     SUN   78.000000   25.777778\n",
      "1128       SFO     TUS  100.200000   35.221053\n",
      "1129       SFO     XNA  173.500000    0.500000\n",
      "\n",
      "[1130 rows x 4 columns]\n"
     ]
    }
   ],
   "execution_count": 16
  },
  {
   "cell_type": "markdown",
   "metadata": {},
   "source": [
    "**6**. Find the airline that makes the most flights between 500 and 1,000 miles."
   ]
  },
  {
   "cell_type": "code",
   "metadata": {
    "ExecuteTime": {
     "end_time": "2024-10-04T02:47:48.569813Z",
     "start_time": "2024-10-04T02:47:48.485241Z"
    }
   },
   "source": [
    "import pandas as pd\n",
    "\n",
    "flight_data = pd.read_csv('flights.csv')\n",
    "\n",
    "mid_range_flights = flight_data.query('500 <= Distance <= 1000')\n",
    "airline_counts = mid_range_flights['Airline'].value_counts()\n",
    "top_airline = airline_counts.idxmax()\n",
    "top_flight_count = airline_counts.max()\n",
    "print(f\"Top airline for flights between 500 and 1,000 miles: {top_airline} with {top_flight_count} flights.\")\n"
   ],
   "outputs": [
    {
     "name": "stdout",
     "output_type": "stream",
     "text": [
      "Top airline for flights between 500 and 1,000 miles: DL with 4248 flights.\n"
     ]
    }
   ],
   "execution_count": 15
  },
  {
   "cell_type": "markdown",
   "metadata": {},
   "source": [
    "**7**. Create a bar plot showing the number of flights originating from each city."
   ]
  },
  {
   "cell_type": "code",
   "metadata": {
    "ExecuteTime": {
     "end_time": "2024-10-04T02:46:33.692676Z",
     "start_time": "2024-10-04T02:46:33.481612Z"
    }
   },
   "source": [
    "from matplotlib import pyplot as plt\n",
    "import pandas as pd\n",
    "\n",
    "data = pd.read_csv('flights.csv')\n",
    "\n",
    "origin_counts = data['Origin'].value_counts()\n",
    "\n",
    "plt.figure(figsize=(10, 6))\n",
    "plt.bar(origin_counts.index, origin_counts.values)\n",
    "\n",
    "plt.xlabel('Origin City')\n",
    "plt.ylabel('Number of Flights')\n",
    "plt.title('Flight Counts by Origin City')\n",
    "\n",
    "plt.xticks(rotation=45)\n",
    "plt.tight_layout()\n",
    "plt.show()\n"
   ],
   "outputs": [
    {
     "data": {
      "text/plain": [
       "<Figure size 1000x600 with 1 Axes>"
      ],
      "image/png": "[encoded data removed]"
     },
     "metadata": {},
     "output_type": "display_data"
    }
   ],
   "execution_count": 14
  },
  {
   "cell_type": "markdown",
   "metadata": {},
   "source": [
    "**8**. Change the Weekday column to have the day name instead of day number, e.g. 1 - Sun, 2 - Mon, etc."
   ]
  },
  {
   "cell_type": "code",
   "metadata": {
    "ExecuteTime": {
     "end_time": "2024-10-04T00:33:12.128778Z",
     "start_time": "2024-10-04T00:33:11.971657Z"
    }
   },
   "source": [
    "import pandas as pd\n",
    "\n",
    "flight_records = pd.read_csv('flights.csv')\n",
    "\n",
    "day_names = {1: 'Sun', 2: 'Mon', 3: 'Tue', 4: 'Wed', 5: 'Thu', 6: 'Fri', 7: 'Sat'}\n",
    "flight_records['DayName'] = flight_records['Weekday'].replace(day_names)\n",
    "flight_records.to_csv('flights.csv', index=False) #  putting back in csv\n",
    "print(\"Day names have been saved to 'flights.csv'.\")\n"
   ],
   "outputs": [
    {
     "name": "stdout",
     "output_type": "stream",
     "text": [
      "Weekday column has been updated in 'flights.csv'.\n"
     ]
    }
   ],
   "execution_count": 7
  },
  {
   "cell_type": "markdown",
   "metadata": {},
   "source": [
    "**9**. Join the Month and Day columns into a single column named Date. For example, if month=3, day=15, the date column should have 3/15."
   ]
  },
  {
   "cell_type": "code",
   "metadata": {
    "ExecuteTime": {
     "end_time": "2024-10-04T02:35:37.914037Z",
     "start_time": "2024-10-04T02:35:37.602242Z"
    }
   },
   "source": [
    "import pandas as pd\n",
    "\n",
    "flight_data = pd.read_csv('flights.csv')\n",
    "flight_data['CombinedDate'] = flight_data['Month'].map(str) + '/' + flight_data['Day'].map(str)\n",
    "flight_data.to_csv('flights.csv', index=False)\n",
    "print(\"'CombinedDate' has been saved to 'flights.csv'.\")"
   ],
   "outputs": [
    {
     "name": "stdout",
     "output_type": "stream",
     "text": [
      "The 'Date' column has been added to 'flights.csv'.\n"
     ]
    }
   ],
   "execution_count": 9
  },
  {
   "cell_type": "markdown",
   "metadata": {},
   "source": [
    "**10**. Find the longest sequence of on-time flights per airline (an on-time flight is a flight with less than 15 minutes arrival delay). <br> Hint: use the [cumsum()](https://pandas.pydata.org/docs/reference/api/pandas.DataFrame.cumsum.html) function."
   ]
  },
  {
   "cell_type": "code",
   "metadata": {
    "ExecuteTime": {
     "end_time": "2024-10-04T02:41:41.766746Z",
     "start_time": "2024-10-04T02:41:41.617469Z"
    }
   },
   "source": [
    "import pandas as pd\n",
    "\n",
    "data = pd.read_csv('flights.csv')\n",
    "\n",
    "data['IsOnTime'] = data['ArrivalDelay'] < 15\n",
    "airline_sequences = []\n",
    "for air_carrier, subset in data.groupby('Airline'):\n",
    "    subset['OnTimeStreak'] = (~subset['IsOnTime']).cumsum()\n",
    "    streak_lengths = subset[subset['IsOnTime']].groupby('OnTimeStreak').size()\n",
    "    max_streak = streak_lengths.max() if not streak_lengths.empty else 0\n",
    "    airline_sequences.append((air_carrier, max_streak))\n",
    "\n",
    "streak_df = pd.DataFrame(airline_sequences, columns=['Airline', 'MaxOnTimeStreak'])\n",
    "print(streak_df)\n"
   ],
   "outputs": [
    {
     "name": "stdout",
     "output_type": "stream",
     "text": [
      "   Airline  MaxOnTimeStreak\n",
      "0       AA               50\n",
      "1       AS               48\n",
      "2       B6               25\n",
      "3       DL               91\n",
      "4       EV               42\n",
      "5       F9               22\n",
      "6       HA               17\n",
      "7       MQ               51\n",
      "8       NK               24\n",
      "9       OO               36\n",
      "10      UA               46\n",
      "11      US               44\n",
      "12      VX               38\n",
      "13      WN               43\n"
     ]
    }
   ],
   "execution_count": 10
  }
 ],
 "metadata": {
  "kernelspec": {
   "display_name": "Python 3 (ipykernel)",
   "language": "python",
   "name": "python3"
  },
  "language_info": {
   "codemirror_mode": {
    "name": "ipython",
    "version": 3
   },
   "file_extension": ".py",
   "mimetype": "text/x-python",
   "name": "python",
   "nbconvert_exporter": "python",
   "pygments_lexer": "ipython3",
   "version": "3.11.5"
  }
 },
 "nbformat": 4,
 "nbformat_minor": 4
}
